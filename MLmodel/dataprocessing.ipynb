{
 "cells": [
  {
   "cell_type": "code",
   "execution_count": 1,
   "metadata": {},
   "outputs": [],
   "source": [
    "import pandas as pd\n",
    "from sklearn.feature_extraction.text import TfidfVectorizer\n",
    "from sklearn.model_selection import train_test_split\n",
    "from sklearn.linear_model import LogisticRegression\n",
    "from sklearn.metrics import accuracy_score, classification_report\n",
    "import joblib"
   ]
  },
  {
   "cell_type": "code",
   "execution_count": 2,
   "metadata": {},
   "outputs": [
    {
     "name": "stdout",
     "output_type": "stream",
     "text": [
      "['5c18291c481a192ed5003084dab2d8a117fd3736359218fee2aea1a164544c9e' 0\n",
      " 'LdrUnloadDll' ...\n",
      " 'ed5addbdbe5f56f108530148c71ab7db806ac9324395d07d0db0bd1ea65968ad'\n",
      " 'ed4f4518e3120a4fd8ff6c61bf072d4de60264711a9196f1eb347f6afecfde5c'\n",
      " 'ed4d8f4196fd32dc08d8cda5e4c952c3ecf526e3491e9ec0c55067ed0ef11f37']\n"
     ]
    }
   ],
   "source": [
    "import pandas as pd\n",
    "\n",
    "# Assuming your CSV file is named 'dataset.csv'\n",
    "data = pd.read_csv('dataset.csv')\n",
    "\n",
    "# Get the total number of columns in the dataset\n",
    "total_columns = len(data.columns)\n",
    "\n",
    "# Specify the columns you want to analyze within the existing range\n",
    "selected_columns = list(range(min(2000, total_columns)))\n",
    "\n",
    "\n",
    "# Get unique values from the specified columns\n",
    "distinct_strings = data.iloc[:, selected_columns].stack().unique()\n",
    "\n",
    "# Print or use distinct_strings as needed\n",
    "print(distinct_strings)\n"
   ]
  },
  {
   "cell_type": "code",
   "execution_count": 3,
   "metadata": {},
   "outputs": [],
   "source": [
    "# Load dataset\n",
    "data = pd.read_csv('dataset.csv')"
   ]
  },
  {
   "cell_type": "code",
   "execution_count": 4,
   "metadata": {},
   "outputs": [
    {
     "name": "stdout",
     "output_type": "stream",
     "text": [
      "Index(['id', 'labels', '0', '1', '2', '3', '4', '5', '6', '7',\n",
      "       ...\n",
      "       'Unnamed: 167', 'Unnamed: 168', 'Unnamed: 169', 'Unnamed: 170',\n",
      "       'Unnamed: 171', 'Unnamed: 172', 'Unnamed: 173', 'Unnamed: 174',\n",
      "       'Unnamed: 175', 'Unnamed: 176'],\n",
      "      dtype='object', length=177)\n"
     ]
    }
   ],
   "source": [
    "print(data.columns)\n"
   ]
  },
  {
   "cell_type": "code",
   "execution_count": 5,
   "metadata": {},
   "outputs": [
    {
     "name": "stdout",
     "output_type": "stream",
     "text": [
      "                                                  id  labels  \\\n",
      "0  5c18291c481a192ed5003084dab2d8a117fd3736359218...       0   \n",
      "1  4683faf3da550ffb594cf5513c4cbb34f64df85f27fd1c...       0   \n",
      "2  9a0aea1c7290031d7c3429d0e921f107282cc6eab854ee...       0   \n",
      "3  e0f3e4d5f50afd9c31e51dd9941c5a52d57c7c524f5d11...       0   \n",
      "4  ec2b6d29992f13e74015ff0b129150b4afae15c593e4b7...       0   \n",
      "\n",
      "                     0                        1                   2  \\\n",
      "0         LdrUnloadDll           CoUninitialize          NtQueryKey   \n",
      "1         NtOpenMutant      GetForegroundWindow          NtQueryKey   \n",
      "2  GetForegroundWindow              DrawTextExW       GetSystemInfo   \n",
      "3      NtQueryValueKey             LdrUnloadDll  GlobalMemoryStatus   \n",
      "4         LdrUnloadDll  GetSystemTimeAsFileTime           NtOpenKey   \n",
      "\n",
      "                   3                            4                       5  \\\n",
      "0  NtDuplicateObject            GetShortPathNameW           GetSystemInfo   \n",
      "1        DrawTextExW         NtSetInformationFile        RegQueryValueExA   \n",
      "2  IsDebuggerPresent   GetSystemWindowsDirectoryW         NtQueryValueKey   \n",
      "3      WriteConsoleA                    NtOpenKey  LdrGetProcedureAddress   \n",
      "4         WSAStartup  SetUnhandledExceptionFilter      NtTerminateProcess   \n",
      "\n",
      "                        6                           7  ... Unnamed: 167  \\\n",
      "0       IsDebuggerPresent  GetSystemWindowsDirectoryW  ...          NaN   \n",
      "1  LdrGetProcedureAddress              CoUninitialize  ...          NaN   \n",
      "2             RegCloseKey          GetFileAttributesW  ...          NaN   \n",
      "3      NtTerminateProcess                     NtClose  ...          NaN   \n",
      "4                 NtClose     NtAllocateVirtualMemory  ...          NaN   \n",
      "\n",
      "  Unnamed: 168 Unnamed: 169 Unnamed: 170 Unnamed: 171 Unnamed: 172  \\\n",
      "0          NaN          NaN          NaN          NaN          NaN   \n",
      "1          NaN          NaN          NaN          NaN          NaN   \n",
      "2          NaN          NaN          NaN          NaN          NaN   \n",
      "3          NaN          NaN          NaN          NaN          NaN   \n",
      "4          NaN          NaN          NaN          NaN          NaN   \n",
      "\n",
      "  Unnamed: 173 Unnamed: 174 Unnamed: 175 Unnamed: 176  \n",
      "0          NaN          NaN          NaN          NaN  \n",
      "1          NaN          NaN          NaN          NaN  \n",
      "2          NaN          NaN          NaN          NaN  \n",
      "3          NaN          NaN          NaN          NaN  \n",
      "4          NaN          NaN          NaN          NaN  \n",
      "\n",
      "[5 rows x 177 columns]\n"
     ]
    }
   ],
   "source": [
    "\n",
    "print(data.head())\n"
   ]
  },
  {
   "cell_type": "code",
   "execution_count": 6,
   "metadata": {},
   "outputs": [],
   "source": [
    "# Extracting API call sequences into X (features)\n",
    "X = data.iloc[:, 2:177]\n",
    "\n",
    "# Extracting labels into y (target variable)\n",
    "y = data['labels']\n"
   ]
  },
  {
   "cell_type": "code",
   "execution_count": 7,
   "metadata": {},
   "outputs": [],
   "source": [
    "# Split the data into training and testing sets\n",
    "X_train, X_test, y_train, y_test = train_test_split(X, y, test_size=0.2, random_state=42)\n"
   ]
  },
  {
   "cell_type": "code",
   "execution_count": 8,
   "metadata": {},
   "outputs": [
    {
     "name": "stdout",
     "output_type": "stream",
     "text": [
      "Original data shape: (2570, 177)\n",
      "X shape: (2570, 175)\n",
      "y shape: (2570,)\n",
      "X_train shape: (2056, 175)\n",
      "y_train shape: (2056,)\n",
      "X_test shape: (514, 175)\n",
      "y_test shape: (514,)\n"
     ]
    }
   ],
   "source": [
    "# Check the shapes of your original data\n",
    "print(\"Original data shape:\", data.shape)\n",
    "\n",
    "# Check the shape of your X and y before splitting\n",
    "print(\"X shape:\", X.shape)\n",
    "print(\"y shape:\", y.shape)\n",
    "\n",
    "# Split the data\n",
    "X_train, X_test, y_train, y_test = train_test_split(X, y, test_size=0.2, random_state=42)\n",
    "\n",
    "# Check the shapes after splitting\n",
    "print(\"X_train shape:\", X_train.shape)\n",
    "print(\"y_train shape:\", y_train.shape)\n",
    "print(\"X_test shape:\", X_test.shape)\n",
    "print(\"y_test shape:\", y_test.shape)\n"
   ]
  },
  {
   "cell_type": "code",
   "execution_count": 9,
   "metadata": {},
   "outputs": [],
   "source": [
    "# Create a TF-IDF vectorizer\n",
    "vectorizer = TfidfVectorizer()\n",
    "\n",
    "# Transform the training data\n",
    "X_train_tfidf = vectorizer.fit_transform(X_train)\n",
    "\n",
    "# Transform the testing data\n",
    "X_test_tfidf = vectorizer.transform(X_test)\n"
   ]
  },
  {
   "cell_type": "code",
   "execution_count": 10,
   "metadata": {},
   "outputs": [
    {
     "name": "stdout",
     "output_type": "stream",
     "text": [
      "X_train_tfidf shape: (175, 166)\n",
      "y_train shape: (2056,)\n"
     ]
    }
   ],
   "source": [
    "\n",
    "print(\"X_train_tfidf shape:\", X_train_tfidf.shape)\n",
    "print(\"y_train shape:\", y_train.shape)\n"
   ]
  }
 ],
 "metadata": {
  "kernelspec": {
   "display_name": "Python 3",
   "language": "python",
   "name": "python3"
  },
  "language_info": {
   "codemirror_mode": {
    "name": "ipython",
    "version": 3
   },
   "file_extension": ".py",
   "mimetype": "text/x-python",
   "name": "python",
   "nbconvert_exporter": "python",
   "pygments_lexer": "ipython3",
   "version": "3.11.8"
  }
 },
 "nbformat": 4,
 "nbformat_minor": 2
}
